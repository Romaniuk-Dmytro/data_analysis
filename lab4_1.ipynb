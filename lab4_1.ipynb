{
 "cells": [
  {
   "cell_type": "code",
   "execution_count": 1,
   "id": "69817593-38ff-46a0-80a4-32a42a3d8180",
   "metadata": {},
   "outputs": [],
   "source": [
    "from keras.models import Sequential\n",
    "from keras.layers import Dense\n",
    "import pandas as pd\n",
    "from sklearn.metrics import confusion_matrix, classification_report\n",
    "from sklearn.model_selection import train_test_split"
   ]
  },
  {
   "cell_type": "code",
   "execution_count": 2,
   "id": "3b779358-1a6a-4500-ad26-aa64001549a6",
   "metadata": {},
   "outputs": [
    {
     "name": "stdout",
     "output_type": "stream",
     "text": [
      "<bound method NDFrame.head of       Java_script  FORM_tag  IP_address  Redirecting  Dots_count  Keywords  \\\n",
      "0              -1        -1          -1           -1          -1        -1   \n",
      "1              -1        -1          -1           -1          -1        -1   \n",
      "2              -1        -1           1           -1          -1        -1   \n",
      "3              -1        -1           1           -1          -1        -1   \n",
      "4              -1        -1          -1           -1           1        -1   \n",
      "...           ...       ...         ...          ...         ...       ...   \n",
      "2109           -1        -1          -1           -1          -1        -1   \n",
      "2110           -1        -1          -1           -1          -1        -1   \n",
      "2111           -1        -1          -1            1           1        -1   \n",
      "2112           -1        -1          -1           -1           1        -1   \n",
      "2113           -1        -1          -1           -1          -1        -1   \n",
      "\n",
      "      Shortening_service  Port  Result  \n",
      "0                     -1    -1       1  \n",
      "1                     -1    -1       1  \n",
      "2                     -1    -1       1  \n",
      "3                     -1    -1       1  \n",
      "4                     -1    -1       1  \n",
      "...                  ...   ...     ...  \n",
      "2109                  -1    -1      -1  \n",
      "2110                  -1    -1      -1  \n",
      "2111                  -1    -1      -1  \n",
      "2112                  -1    -1      -1  \n",
      "2113                  -1    -1      -1  \n",
      "\n",
      "[2114 rows x 9 columns]>\n"
     ]
    }
   ],
   "source": [
    "dataset = pd.read_csv('../../analysis_cyber/lab1/phish_set.csv')\n",
    "print(dataset.head)\n",
    "\n",
    "dataset.fillna(-1)\n",
    "\n",
    "X = dataset.drop(['Result'], axis=1)\n",
    "y = dataset['Result']\n",
    "\n",
    "X_train, X_test, Y_train, Y_test = train_test_split(X, y, random_state=40, test_size=0.20)"
   ]
  },
  {
   "cell_type": "code",
   "execution_count": 3,
   "id": "5855309c-7d8f-4cd8-a68e-d080ede4f17e",
   "metadata": {},
   "outputs": [
    {
     "name": "stdout",
     "output_type": "stream",
     "text": [
      "Model: \"sequential\"\n",
      "_________________________________________________________________\n",
      " Layer (type)                Output Shape              Param #   \n",
      "=================================================================\n",
      " dense (Dense)               (None, 1000)              9000      \n",
      "                                                                 \n",
      " dense_1 (Dense)             (None, 200)               200200    \n",
      "                                                                 \n",
      " dense_2 (Dense)             (None, 100)               20100     \n",
      "                                                                 \n",
      " dense_3 (Dense)             (None, 1)                 101       \n",
      "                                                                 \n",
      "=================================================================\n",
      "Total params: 229,401\n",
      "Trainable params: 229,401\n",
      "Non-trainable params: 0\n",
      "_________________________________________________________________\n"
     ]
    }
   ],
   "source": [
    "model = Sequential()\n",
    "model.add(Dense(1000, activation='relu', input_dim=8))\n",
    "model.add(Dense(200, activation='relu'))\n",
    "model.add(Dense(100, activation='relu'))\n",
    "model.add(Dense(1, activation='softmax'))\n",
    "model.summary()"
   ]
  },
  {
   "cell_type": "code",
   "execution_count": 4,
   "id": "4fb0e9a0-552c-4efc-bd4b-92f61a3d5587",
   "metadata": {},
   "outputs": [
    {
     "name": "stdout",
     "output_type": "stream",
     "text": [
      "Epoch 1/50\n",
      "53/53 [==============================] - 1s 3ms/step - loss: 0.0000e+00 - accuracy: 0.6091\n",
      "Epoch 2/50\n",
      "53/53 [==============================] - 0s 3ms/step - loss: 0.0000e+00 - accuracy: 0.6091\n",
      "Epoch 3/50\n",
      "53/53 [==============================] - 0s 3ms/step - loss: 0.0000e+00 - accuracy: 0.6091\n",
      "Epoch 4/50\n",
      "53/53 [==============================] - 0s 3ms/step - loss: 0.0000e+00 - accuracy: 0.6091: 0s - loss: 0.0000e+00 - accuracy: \n",
      "Epoch 5/50\n",
      "53/53 [==============================] - 0s 3ms/step - loss: 0.0000e+00 - accuracy: 0.6091\n",
      "Epoch 6/50\n",
      "53/53 [==============================] - 0s 3ms/step - loss: 0.0000e+00 - accuracy: 0.6091\n",
      "Epoch 7/50\n",
      "53/53 [==============================] - 0s 3ms/step - loss: 0.0000e+00 - accuracy: 0.6091\n",
      "Epoch 8/50\n",
      "53/53 [==============================] - 0s 3ms/step - loss: 0.0000e+00 - accuracy: 0.6091\n",
      "Epoch 9/50\n",
      "53/53 [==============================] - 0s 3ms/step - loss: 0.0000e+00 - accuracy: 0.6091\n",
      "Epoch 10/50\n",
      "53/53 [==============================] - 0s 3ms/step - loss: 0.0000e+00 - accuracy: 0.6091\n",
      "Epoch 11/50\n",
      "53/53 [==============================] - 0s 3ms/step - loss: 0.0000e+00 - accuracy: 0.6091\n",
      "Epoch 12/50\n",
      "53/53 [==============================] - 0s 3ms/step - loss: 0.0000e+00 - accuracy: 0.6091\n",
      "Epoch 13/50\n",
      "53/53 [==============================] - 0s 3ms/step - loss: 0.0000e+00 - accuracy: 0.6091\n",
      "Epoch 14/50\n",
      "53/53 [==============================] - 0s 3ms/step - loss: 0.0000e+00 - accuracy: 0.6091\n",
      "Epoch 15/50\n",
      "53/53 [==============================] - 0s 3ms/step - loss: 0.0000e+00 - accuracy: 0.6091\n",
      "Epoch 16/50\n",
      "53/53 [==============================] - 0s 3ms/step - loss: 0.0000e+00 - accuracy: 0.6091\n",
      "Epoch 17/50\n",
      "53/53 [==============================] - 0s 3ms/step - loss: 0.0000e+00 - accuracy: 0.6091\n",
      "Epoch 18/50\n",
      "53/53 [==============================] - 0s 3ms/step - loss: 0.0000e+00 - accuracy: 0.6091\n",
      "Epoch 19/50\n",
      "53/53 [==============================] - 0s 3ms/step - loss: 0.0000e+00 - accuracy: 0.6091\n",
      "Epoch 20/50\n",
      "53/53 [==============================] - 0s 3ms/step - loss: 0.0000e+00 - accuracy: 0.6091\n",
      "Epoch 21/50\n",
      "53/53 [==============================] - 0s 3ms/step - loss: 0.0000e+00 - accuracy: 0.6091\n",
      "Epoch 22/50\n",
      "53/53 [==============================] - 0s 3ms/step - loss: 0.0000e+00 - accuracy: 0.6091\n",
      "Epoch 23/50\n",
      "53/53 [==============================] - 0s 3ms/step - loss: 0.0000e+00 - accuracy: 0.6091\n",
      "Epoch 24/50\n",
      "53/53 [==============================] - 0s 3ms/step - loss: 0.0000e+00 - accuracy: 0.6091\n",
      "Epoch 25/50\n",
      "53/53 [==============================] - 0s 3ms/step - loss: 0.0000e+00 - accuracy: 0.6091\n",
      "Epoch 26/50\n",
      "53/53 [==============================] - 0s 3ms/step - loss: 0.0000e+00 - accuracy: 0.6091\n",
      "Epoch 27/50\n",
      "53/53 [==============================] - 0s 3ms/step - loss: 0.0000e+00 - accuracy: 0.6091\n",
      "Epoch 28/50\n",
      "53/53 [==============================] - 0s 3ms/step - loss: 0.0000e+00 - accuracy: 0.6091\n",
      "Epoch 29/50\n",
      "53/53 [==============================] - 0s 3ms/step - loss: 0.0000e+00 - accuracy: 0.6091\n",
      "Epoch 30/50\n",
      "53/53 [==============================] - 0s 3ms/step - loss: 0.0000e+00 - accuracy: 0.6091\n",
      "Epoch 31/50\n",
      "53/53 [==============================] - 0s 3ms/step - loss: 0.0000e+00 - accuracy: 0.6091\n",
      "Epoch 32/50\n",
      "53/53 [==============================] - 0s 3ms/step - loss: 0.0000e+00 - accuracy: 0.6091\n",
      "Epoch 33/50\n",
      "53/53 [==============================] - 0s 3ms/step - loss: 0.0000e+00 - accuracy: 0.6091\n",
      "Epoch 34/50\n",
      "53/53 [==============================] - 0s 3ms/step - loss: 0.0000e+00 - accuracy: 0.6091\n",
      "Epoch 35/50\n",
      "53/53 [==============================] - 0s 3ms/step - loss: 0.0000e+00 - accuracy: 0.6091\n",
      "Epoch 36/50\n",
      "53/53 [==============================] - 0s 3ms/step - loss: 0.0000e+00 - accuracy: 0.6091\n",
      "Epoch 37/50\n",
      "53/53 [==============================] - 0s 3ms/step - loss: 0.0000e+00 - accuracy: 0.6091\n",
      "Epoch 38/50\n",
      "53/53 [==============================] - 0s 3ms/step - loss: 0.0000e+00 - accuracy: 0.6091\n",
      "Epoch 39/50\n",
      "53/53 [==============================] - 0s 3ms/step - loss: 0.0000e+00 - accuracy: 0.6091\n",
      "Epoch 40/50\n",
      "53/53 [==============================] - 0s 3ms/step - loss: 0.0000e+00 - accuracy: 0.6091\n",
      "Epoch 41/50\n",
      "53/53 [==============================] - 0s 3ms/step - loss: 0.0000e+00 - accuracy: 0.6091\n",
      "Epoch 42/50\n",
      "53/53 [==============================] - 0s 3ms/step - loss: 0.0000e+00 - accuracy: 0.6091\n",
      "Epoch 43/50\n",
      "53/53 [==============================] - 0s 3ms/step - loss: 0.0000e+00 - accuracy: 0.6091\n",
      "Epoch 44/50\n",
      "53/53 [==============================] - 0s 3ms/step - loss: 0.0000e+00 - accuracy: 0.6091\n",
      "Epoch 45/50\n",
      "53/53 [==============================] - 0s 3ms/step - loss: 0.0000e+00 - accuracy: 0.6091\n",
      "Epoch 46/50\n",
      "53/53 [==============================] - 0s 3ms/step - loss: 0.0000e+00 - accuracy: 0.6091\n",
      "Epoch 47/50\n",
      "53/53 [==============================] - 0s 3ms/step - loss: 0.0000e+00 - accuracy: 0.6091\n",
      "Epoch 48/50\n",
      "53/53 [==============================] - 0s 3ms/step - loss: 0.0000e+00 - accuracy: 0.6091\n",
      "Epoch 49/50\n",
      "53/53 [==============================] - 0s 3ms/step - loss: 0.0000e+00 - accuracy: 0.6091\n",
      "Epoch 50/50\n",
      "53/53 [==============================] - 0s 3ms/step - loss: 0.0000e+00 - accuracy: 0.6091\n",
      "Accuracy on training data: 0.6091070175170898% \n",
      " Error on training data: 0.39089298248291016\n"
     ]
    }
   ],
   "source": [
    "model.compile(loss='categorical_crossentropy', optimizer='adam', metrics=['accuracy'])\n",
    "model.fit(X_train, Y_train, epochs=50)\n",
    "\n",
    "pred_train = model.predict(X_train)\n",
    "scores = model.evaluate(X_train, Y_train, verbose=0)\n",
    "print('Accuracy on training data: {}% \\n Error on training data: {}'.format(scores[1], 1 - scores[1]))"
   ]
  },
  {
   "cell_type": "code",
   "execution_count": 5,
   "id": "e1d0a9f6-25fc-4675-872a-18376771ec19",
   "metadata": {},
   "outputs": [
    {
     "name": "stdout",
     "output_type": "stream",
     "text": [
      "Accuracy on test data: 0.5721040368080139% \n",
      " Error on test data: 0.4278959631919861\n"
     ]
    }
   ],
   "source": [
    "pred_test = model.predict(X_test)\n",
    "scores2 = model.evaluate(X_test, Y_test, verbose=0)\n",
    "print('Accuracy on test data: {}% \\n Error on test data: {}'.format(scores2[1], 1 - scores2[1]))"
   ]
  },
  {
   "cell_type": "code",
   "execution_count": null,
   "id": "b72f599e-9768-4463-a510-ca5c3fa471b6",
   "metadata": {},
   "outputs": [],
   "source": []
  }
 ],
 "metadata": {
  "kernelspec": {
   "display_name": "Python 3 (ipykernel)",
   "language": "python",
   "name": "python3"
  },
  "language_info": {
   "codemirror_mode": {
    "name": "ipython",
    "version": 3
   },
   "file_extension": ".py",
   "mimetype": "text/x-python",
   "name": "python",
   "nbconvert_exporter": "python",
   "pygments_lexer": "ipython3",
   "version": "3.9.6"
  }
 },
 "nbformat": 4,
 "nbformat_minor": 5
}
